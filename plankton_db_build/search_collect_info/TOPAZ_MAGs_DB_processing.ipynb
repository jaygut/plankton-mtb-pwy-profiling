{
 "cells": [
  {
   "cell_type": "markdown",
   "metadata": {
    "tags": []
   },
   "source": [
    "# Processing the TOPAZ MAGs DB published by [Alexander, et.al. 2021](https://www.biorxiv.org/content/10.1101/2021.07.25.453713v1):  \n",
    "**Excerpt from abstract:**  \n",
    "Here, we developed the EukHeist automated computational pipeline, to retrieve eukaryotic and prokaryotic metagenome assembled genomes (MAGs). We applied EukHeist to the eukaryote-dominated large-size fraction data (0.8-2000mm) from the Tara Oceans survey to recover both eukaryotic and prokaryotic MAGs, 10 which we refer to as TOPAZ (Tara Oceans Particle-AssociatedMAGs). The TOPAZMAGs consisted of more than 900 eukaryotic MAGs representing environmentally-relevant microbial and multicellular eukaryotes in addition to over 4,000 bacterial and archaeal MAGs. The bacterial and archaeal TOPAZ MAGs retrieved with EukHeist complement previous efforts by expanding the existing phylogenetic diversity through the increase in coverage of many likely particle- and host-associated taxa. We also demonstrate how the novel eukaryotic genomic content recovered from this study might be used to infer functional traits, such as trophic mode. By coupling MAGs and metatranscriptomic data, we explored ecologically-significant protistan groups, such as the Stramenopiles. A global survey of both eukaryotic and prokaryotic MAGs enabled the identification of ecological cohorts, driven by specific environmental factors, and putative host-microbe associations\n",
    "\n",
    "### The DB is accessible from [TOPAZ MAGs](https://osf.io/gm564/).  \n",
    "\n",
    "**The goal here is:**  \n",
    "To properly format this protein seq DB in a way that one can use it with humann to profile environmental samples at the metabolic pathway level. To achieve this, we have to: \n",
    "\n",
    "    1. Scoop out sequences that can be taxonomically associated with an NCBI taxID down to the genus level, or at least the family level (using BioPython here!).\n",
    "    2. Make sure that a given sequence is sufficiently large, e.g. seq-len > 50 AA.\n",
    "    3. Annotate the target sequence against UniRef90_2020-2.\n",
    "    4. Create a .dmnd DB out of this newly created .faa file of UniRef90 annotated sequences.\n",
    "    \n",
    "Jayson Gutierrez: 13/03/2022"
   ]
  },
  {
   "cell_type": "code",
   "execution_count": 1,
   "metadata": {},
   "outputs": [],
   "source": [
    "import matplotlib\n",
    "%matplotlib inline\n",
    "import matplotlib.pyplot as plt\n",
    "from matplotlib import cm\n",
    "import seaborn as sns\n",
    "\n",
    "from subprocess import Popen, call, STDOUT, PIPE\n",
    "import os\n",
    "import shutil\n",
    "import pandas as pd\n",
    "import numpy as np\n",
    "import matplotlib\n",
    "import json\n",
    "import glob\n",
    "import re\n",
    "import gzip\n",
    "import sys\n",
    "import csv\n",
    "import time\n",
    "import io\n",
    "import pathlib\n",
    "from zipfile import ZipFile\n",
    "\n",
    "import itertools\n",
    "\n",
    "import json\n",
    "import urllib.request\n",
    "\n",
    "import Bio.SeqIO as bioseqio\n",
    "from Bio.Seq import Seq\n",
    "from Bio.SeqRecord import SeqRecord\n",
    "#from Bio.Alphabet import IUPAC\n",
    "from Bio import Entrez\n",
    "from Bio import SeqIO\n",
    "\n",
    "from ete3 import NCBITaxa\n",
    "from taxonomy_ranks import TaxonomyRanks\n",
    "\n",
    "from IPython.display import Image\n",
    "\n",
    "import warnings\n",
    "warnings.filterwarnings('ignore')\n",
    "\n",
    "import urllib\n",
    "from collections import OrderedDict \n",
    "\n",
    "import fastaparser\n",
    "from io import StringIO"
   ]
  },
  {
   "cell_type": "code",
   "execution_count": 2,
   "metadata": {},
   "outputs": [
    {
     "name": "stdout",
     "output_type": "stream",
     "text": [
      "/home/VLIZ2000/jayson.gutierrez/anaconda3/envs/bioinformatics/bin/python\n"
     ]
    }
   ],
   "source": [
    "!which python"
   ]
  },
  {
   "cell_type": "code",
   "execution_count": 3,
   "metadata": {},
   "outputs": [],
   "source": [
    "matplotlib.rcParams['savefig.dpi'] = 900\n",
    "matplotlib.rcParams['figure.dpi'] = 600\n",
    "sns.set_style(\"whitegrid\", {'axes.grid' : False})\n",
    "sns.set_context(\"paper\")\n",
    "sns.set(font='serif')\n",
    "# sns.set_style(\"white\", {\n",
    "#         \"font.family\": \"serif\",\n",
    "#         \"font.serif\": [\"Times\", \"Palatino\", \"serif\"]\n",
    "#     })\n",
    "sns.set_style('ticks')"
   ]
  },
  {
   "cell_type": "code",
   "execution_count": 4,
   "metadata": {},
   "outputs": [],
   "source": [
    "from utilities import *"
   ]
  },
  {
   "cell_type": "code",
   "execution_count": 176,
   "metadata": {},
   "outputs": [],
   "source": [
    "def filter_mags(tax_str):\n",
    "    '''Function to extract only desired taxonomic levels'''\n",
    "    tax_lvls = np.array(tax_str.split(';')[::-1][:5])\n",
    "    if(len(np.where(tax_lvls==';')[0])==0):\n",
    "        s,g,f,o,c = tax_lvls\n",
    "        return (\"g__{}.s__{}|NCBI_taxID|c__{}.o__{}.f__{}\".format(g,s,c,o,f))\n",
    "    \n",
    "def assign_lowest_NCBI_taxID(tax_lbl):\n",
    "    '''Use function to assign NCBI tax ID at lowest level possible'''\n",
    "    \n",
    "    #Grab sps,genus lbls\n",
    "    glbl,slbl = tax_lbl.split(\"|\")[0].split(\".s\")\n",
    "    slbl = \"s\" + slbl\n",
    "    if(slbl == 's__-'):\n",
    "        lw_tax_lbl = glbl.split(\"__\")[-1]\n",
    "    else:\n",
    "        lw_tax_lbl = slbl.split(\"__\")[-1]\n",
    "    \n",
    "    try:\n",
    "        #Query tax IDs database\n",
    "        rank_taxon = TaxonomyRanks(lw_tax_lbl)\n",
    "        rank_taxon.get_lineage_taxids_and_taxanames()\n",
    "        rank_dict =  list(rank_taxon.lineages.values())[0]\n",
    "        \n",
    "        #Fetch taxID\n",
    "        if(rank_dict['species'][0]!='NA'):\n",
    "            taxID = rank_dict['species'][1]\n",
    "        elif(rank_dict['genus'][0]!='NA'):\n",
    "            taxID = rank_dict['genus'][1]\n",
    "        elif(rank_dict['family'][0]!='NA'):\n",
    "            taxID = rank_dict['family'][1]\n",
    "        elif(rank_dict['order'][0]!='NA'):\n",
    "            taxID = rank_dict['order'][1]  \n",
    "        elif(rank_dict['class'][0]!='NA'):\n",
    "            taxID = rank_dict['class'][1]  \n",
    "        \n",
    "        #Set corresponding taxonomic lbls\n",
    "        if(rank_dict['species'][0]=='NA'):\n",
    "            sps_lbl = 'unclassified'\n",
    "        else:\n",
    "            sps_lbl = rank_dict['species'][0]\n",
    "\n",
    "        if(rank_dict['genus'][0]=='NA'):\n",
    "            gs_lbl = 'unclassified'\n",
    "        else:\n",
    "            gs_lbl = rank_dict['genus'][0]\n",
    "\n",
    "        if(rank_dict['family'][0]=='NA'):\n",
    "            fl_lbl = 'unclassified'\n",
    "        else:\n",
    "            fl_lbl = rank_dict['family'][0]\n",
    "\n",
    "        if(rank_dict['order'][0]=='NA'):\n",
    "            od_lbl = 'unclassified'\n",
    "        else:\n",
    "            od_lbl = rank_dict['order'][0]\n",
    "\n",
    "        if(rank_dict['class'][0]=='NA'):\n",
    "            cl_lbl = 'unclassified'\n",
    "        else:\n",
    "            cl_lbl = rank_dict['class'][0]\n",
    "\n",
    "        return 'g__{}.s__{}|{}|c__{}.o__{}.f__{}'.format(sps_lbl,gs_lbl,taxID,cl_lbl,od_lbl,fl_lbl)        \n",
    "        \n",
    "    except:\n",
    "        return 'NA'"
   ]
  },
  {
   "cell_type": "markdown",
   "metadata": {},
   "source": [
    "#### Filtering dataframe: extracting MAGs that have been taxonomically assigned at least to the Class level"
   ]
  },
  {
   "cell_type": "code",
   "execution_count": 8,
   "metadata": {},
   "outputs": [],
   "source": [
    "#Loading metadata for Euks\n",
    "fid = 'data/TableS02_EukaryoticMAG.csv'\n",
    "topaz_mags_meta_df = pd.read_csv(fid,index_col='Unnamed: 0')"
   ]
  },
  {
   "cell_type": "code",
   "execution_count": 98,
   "metadata": {},
   "outputs": [],
   "source": [
    "#Identify SMAGs with desired taxonomic scope\n",
    "tax_lbls = topaz_mags_meta_df[['eukulele_taxonomy','mmseqs_taxonomy']].apply(lambda l: \";\".join([filter_mags(s) for s in l]), axis=1)\n",
    "filtered_tax_lbls = tax_lbls[tax_lbls!='g__-.s__-|NCBI_taxID|c__-.o__-.f__-;g__-.s__-|NCBI_taxID|c__-.o__-.f__-']\n",
    "filtered_tax_lbls2 = filtered_tax_lbls.apply(lambda s: sorted(s.split(\";\"), key = lambda s: s.count('-'))[0])\n",
    "#Stringent filter: keep only those with at least genus label, species label even better\n",
    "filtered_tax_lbls3 = filtered_tax_lbls2[~filtered_tax_lbls2.str.contains('g__-.s__-')]"
   ]
  },
  {
   "cell_type": "markdown",
   "metadata": {},
   "source": [
    "Taxonomic affiliation is performed using the library: *taxonomy_ranks*, and example on how this works is shown below:"
   ]
  },
  {
   "cell_type": "code",
   "execution_count": 168,
   "metadata": {},
   "outputs": [
    {
     "data": {
      "text/plain": [
       "{'user_taxa': 'Geminigera cryophila',\n",
       " 'taxa_searched': 'Geminigera cryophila',\n",
       " 'superkingdom': ('Eukaryota', 2759),\n",
       " 'kingdom': ('NA', 'NA'),\n",
       " 'superphylum': ('NA', 'NA'),\n",
       " 'phylum': ('NA', 'NA'),\n",
       " 'subphylum': ('NA', 'NA'),\n",
       " 'superclass': ('NA', 'NA'),\n",
       " 'class': ('Cryptophyceae', 3027),\n",
       " 'subclass': ('NA', 'NA'),\n",
       " 'superorder': ('NA', 'NA'),\n",
       " 'order': ('Pyrenomonadales', 589342),\n",
       " 'suborder': ('NA', 'NA'),\n",
       " 'superfamily': ('NA', 'NA'),\n",
       " 'family': ('Geminigeraceae', 589343),\n",
       " 'subfamily': ('NA', 'NA'),\n",
       " 'genus': ('Geminigera', 46946),\n",
       " 'subgenus': ('NA', 'NA'),\n",
       " 'species': ('Geminigera cryophila', 46947)}"
      ]
     },
     "execution_count": 168,
     "metadata": {},
     "output_type": "execute_result"
    }
   ],
   "source": [
    "rank_taxon = TaxonomyRanks('Geminigera cryophila')\n",
    "rank_taxon.get_lineage_taxids_and_taxanames()\n",
    "list(rank_taxon.lineages.values())[0]"
   ]
  },
  {
   "cell_type": "markdown",
   "metadata": {},
   "source": [
    "The following DF is the definitive list of MAGs filtered out from the TOPAZ DB, which will be used to further expand the first draft of our Marine Plankton Genomics DB suitable for metabolic pathway profiling using the HUMANnN pipeline."
   ]
  },
  {
   "cell_type": "code",
   "execution_count": 191,
   "metadata": {},
   "outputs": [],
   "source": [
    "filtered_mags_list = filtered_tax_lbls3.apply(assign_lowest_NCBI_taxID)\n",
    "#Excluding the following samples for technical reasons\n",
    "filtered_mags_list = filtered_mags_list[~filtered_mags_list.index.str.contains(\"TOPAZ_SPS2\")]"
   ]
  },
  {
   "cell_type": "markdown",
   "metadata": {},
   "source": [
    "Create definitive metadata DF and add the taxonomic labels created above, which are formatted to match HumanN"
   ]
  },
  {
   "cell_type": "code",
   "execution_count": 237,
   "metadata": {},
   "outputs": [
    {
     "data": {
      "text/html": [
       "<div>\n",
       "<style scoped>\n",
       "    .dataframe tbody tr th:only-of-type {\n",
       "        vertical-align: middle;\n",
       "    }\n",
       "\n",
       "    .dataframe tbody tr th {\n",
       "        vertical-align: top;\n",
       "    }\n",
       "\n",
       "    .dataframe thead th {\n",
       "        text-align: right;\n",
       "    }\n",
       "</style>\n",
       "<table border=\"1\" class=\"dataframe\">\n",
       "  <thead>\n",
       "    <tr style=\"text-align: right;\">\n",
       "      <th></th>\n",
       "      <th>eukulele_taxonomy</th>\n",
       "      <th>mmseqs_taxonomy</th>\n",
       "      <th>groups</th>\n",
       "      <th>total_length</th>\n",
       "      <th>total_num_contigs</th>\n",
       "      <th>total_length_5kb</th>\n",
       "      <th>total_length_10kb</th>\n",
       "      <th>total_length_50kb</th>\n",
       "      <th>GC_percent</th>\n",
       "      <th>N50</th>\n",
       "      <th>...</th>\n",
       "      <th>num_unique_kegg</th>\n",
       "      <th>busco_eukaryota_odb10_completeness</th>\n",
       "      <th>busco_eukaryota_odb10_contamination</th>\n",
       "      <th>eukcc_completeness</th>\n",
       "      <th>eukcc_contamination</th>\n",
       "      <th>eukcc_lineage</th>\n",
       "      <th>ocean_region</th>\n",
       "      <th>depth</th>\n",
       "      <th>size_fraction</th>\n",
       "      <th>smags_taxonomy_humann</th>\n",
       "    </tr>\n",
       "  </thead>\n",
       "  <tbody>\n",
       "    <tr>\n",
       "      <th>TOPAZ_IOD1_E001</th>\n",
       "      <td>Eukaryota;Hacrobia;Cryptophyta;Cryptophyceae;C...</td>\n",
       "      <td>Eukaryota;-;-;-;Cryptophyceae;-;Pyrenomonadale...</td>\n",
       "      <td>Cryptophyta</td>\n",
       "      <td>37074820</td>\n",
       "      <td>8377</td>\n",
       "      <td>15520088</td>\n",
       "      <td>2726308</td>\n",
       "      <td>0</td>\n",
       "      <td>58.27</td>\n",
       "      <td>4531</td>\n",
       "      <td>...</td>\n",
       "      <td>2922</td>\n",
       "      <td>57.25</td>\n",
       "      <td>2.75</td>\n",
       "      <td>69.57</td>\n",
       "      <td>8.70</td>\n",
       "      <td>Eukaryota_Fungi_Ascomycota</td>\n",
       "      <td>IO</td>\n",
       "      <td>DCM</td>\n",
       "      <td>0.8-5</td>\n",
       "      <td>g__Geminigera cryophila.s__Geminigera|46947|c_...</td>\n",
       "    </tr>\n",
       "    <tr>\n",
       "      <th>TOPAZ_IOD1_E003</th>\n",
       "      <td>Eukaryota;Hacrobia;Haptophyta;Prymnesiophyceae...</td>\n",
       "      <td>Eukaryota;-;Prymnesiophyceae;Haptista;Haptophy...</td>\n",
       "      <td>Haptophyta</td>\n",
       "      <td>30740252</td>\n",
       "      <td>7112</td>\n",
       "      <td>12314358</td>\n",
       "      <td>2329232</td>\n",
       "      <td>0</td>\n",
       "      <td>62.86</td>\n",
       "      <td>4424</td>\n",
       "      <td>...</td>\n",
       "      <td>2850</td>\n",
       "      <td>49.41</td>\n",
       "      <td>0.39</td>\n",
       "      <td>52.08</td>\n",
       "      <td>4.17</td>\n",
       "      <td>Eukaryota_Fungi_Microsporidia</td>\n",
       "      <td>IO</td>\n",
       "      <td>DCM</td>\n",
       "      <td>0.8-5</td>\n",
       "      <td>g__Chrysochromulina rotalis.s__Chrysochromulin...</td>\n",
       "    </tr>\n",
       "    <tr>\n",
       "      <th>TOPAZ_IOD1_E004</th>\n",
       "      <td>Eukaryota;Hacrobia;Haptophyta;Prymnesiophyceae...</td>\n",
       "      <td>Eukaryota;-;Prymnesiophyceae;Haptista;Haptophy...</td>\n",
       "      <td>Haptophyta</td>\n",
       "      <td>39191221</td>\n",
       "      <td>9102</td>\n",
       "      <td>15279501</td>\n",
       "      <td>2168595</td>\n",
       "      <td>0</td>\n",
       "      <td>62.08</td>\n",
       "      <td>4404</td>\n",
       "      <td>...</td>\n",
       "      <td>2859</td>\n",
       "      <td>50.98</td>\n",
       "      <td>0.39</td>\n",
       "      <td>NaN</td>\n",
       "      <td>NaN</td>\n",
       "      <td>NaN</td>\n",
       "      <td>IO</td>\n",
       "      <td>DCM</td>\n",
       "      <td>0.8-5</td>\n",
       "      <td>g__Chrysochromulina rotalis.s__Chrysochromulin...</td>\n",
       "    </tr>\n",
       "    <tr>\n",
       "      <th>TOPAZ_IOD1_E005</th>\n",
       "      <td>Eukaryota;Archaeplastida;Chlorophyta;Mamiellop...</td>\n",
       "      <td>Eukaryota;Viridiplantae;-;Chlorophyta;Mamiello...</td>\n",
       "      <td>Chlorophyta</td>\n",
       "      <td>17055374</td>\n",
       "      <td>1415</td>\n",
       "      <td>15579731</td>\n",
       "      <td>12443612</td>\n",
       "      <td>1136508</td>\n",
       "      <td>66.20</td>\n",
       "      <td>17298</td>\n",
       "      <td>...</td>\n",
       "      <td>3127</td>\n",
       "      <td>74.90</td>\n",
       "      <td>0.39</td>\n",
       "      <td>94.74</td>\n",
       "      <td>0.00</td>\n",
       "      <td>Eukaryota</td>\n",
       "      <td>IO</td>\n",
       "      <td>DCM</td>\n",
       "      <td>0.8-5</td>\n",
       "      <td>g__Micromonas sp..s__Micromonas|2812611|c__Mam...</td>\n",
       "    </tr>\n",
       "    <tr>\n",
       "      <th>TOPAZ_IOD1_E012</th>\n",
       "      <td>Eukaryota;Archaeplastida;Chlorophyta;Mamiellop...</td>\n",
       "      <td>Eukaryota;Viridiplantae;-;Chlorophyta;Mamiello...</td>\n",
       "      <td>Chlorophyta</td>\n",
       "      <td>12257231</td>\n",
       "      <td>1914</td>\n",
       "      <td>8691266</td>\n",
       "      <td>3943275</td>\n",
       "      <td>0</td>\n",
       "      <td>48.11</td>\n",
       "      <td>7330</td>\n",
       "      <td>...</td>\n",
       "      <td>2701</td>\n",
       "      <td>68.63</td>\n",
       "      <td>0.39</td>\n",
       "      <td>NaN</td>\n",
       "      <td>NaN</td>\n",
       "      <td>NaN</td>\n",
       "      <td>IO</td>\n",
       "      <td>DCM</td>\n",
       "      <td>0.8-5</td>\n",
       "      <td>g__Bathycoccus prasinos.s__Bathycoccus|41875|c...</td>\n",
       "    </tr>\n",
       "  </tbody>\n",
       "</table>\n",
       "<p>5 rows × 31 columns</p>\n",
       "</div>"
      ],
      "text/plain": [
       "                                                 eukulele_taxonomy  \\\n",
       "TOPAZ_IOD1_E001  Eukaryota;Hacrobia;Cryptophyta;Cryptophyceae;C...   \n",
       "TOPAZ_IOD1_E003  Eukaryota;Hacrobia;Haptophyta;Prymnesiophyceae...   \n",
       "TOPAZ_IOD1_E004  Eukaryota;Hacrobia;Haptophyta;Prymnesiophyceae...   \n",
       "TOPAZ_IOD1_E005  Eukaryota;Archaeplastida;Chlorophyta;Mamiellop...   \n",
       "TOPAZ_IOD1_E012  Eukaryota;Archaeplastida;Chlorophyta;Mamiellop...   \n",
       "\n",
       "                                                   mmseqs_taxonomy  \\\n",
       "TOPAZ_IOD1_E001  Eukaryota;-;-;-;Cryptophyceae;-;Pyrenomonadale...   \n",
       "TOPAZ_IOD1_E003  Eukaryota;-;Prymnesiophyceae;Haptista;Haptophy...   \n",
       "TOPAZ_IOD1_E004  Eukaryota;-;Prymnesiophyceae;Haptista;Haptophy...   \n",
       "TOPAZ_IOD1_E005  Eukaryota;Viridiplantae;-;Chlorophyta;Mamiello...   \n",
       "TOPAZ_IOD1_E012  Eukaryota;Viridiplantae;-;Chlorophyta;Mamiello...   \n",
       "\n",
       "                      groups  total_length  total_num_contigs  \\\n",
       "TOPAZ_IOD1_E001  Cryptophyta      37074820               8377   \n",
       "TOPAZ_IOD1_E003   Haptophyta      30740252               7112   \n",
       "TOPAZ_IOD1_E004   Haptophyta      39191221               9102   \n",
       "TOPAZ_IOD1_E005  Chlorophyta      17055374               1415   \n",
       "TOPAZ_IOD1_E012  Chlorophyta      12257231               1914   \n",
       "\n",
       "                 total_length_5kb  total_length_10kb  total_length_50kb  \\\n",
       "TOPAZ_IOD1_E001          15520088            2726308                  0   \n",
       "TOPAZ_IOD1_E003          12314358            2329232                  0   \n",
       "TOPAZ_IOD1_E004          15279501            2168595                  0   \n",
       "TOPAZ_IOD1_E005          15579731           12443612            1136508   \n",
       "TOPAZ_IOD1_E012           8691266            3943275                  0   \n",
       "\n",
       "                 GC_percent    N50  ...  num_unique_kegg  \\\n",
       "TOPAZ_IOD1_E001       58.27   4531  ...             2922   \n",
       "TOPAZ_IOD1_E003       62.86   4424  ...             2850   \n",
       "TOPAZ_IOD1_E004       62.08   4404  ...             2859   \n",
       "TOPAZ_IOD1_E005       66.20  17298  ...             3127   \n",
       "TOPAZ_IOD1_E012       48.11   7330  ...             2701   \n",
       "\n",
       "                 busco_eukaryota_odb10_completeness  \\\n",
       "TOPAZ_IOD1_E001                               57.25   \n",
       "TOPAZ_IOD1_E003                               49.41   \n",
       "TOPAZ_IOD1_E004                               50.98   \n",
       "TOPAZ_IOD1_E005                               74.90   \n",
       "TOPAZ_IOD1_E012                               68.63   \n",
       "\n",
       "                 busco_eukaryota_odb10_contamination  eukcc_completeness  \\\n",
       "TOPAZ_IOD1_E001                                 2.75               69.57   \n",
       "TOPAZ_IOD1_E003                                 0.39               52.08   \n",
       "TOPAZ_IOD1_E004                                 0.39                 NaN   \n",
       "TOPAZ_IOD1_E005                                 0.39               94.74   \n",
       "TOPAZ_IOD1_E012                                 0.39                 NaN   \n",
       "\n",
       "                 eukcc_contamination                  eukcc_lineage  \\\n",
       "TOPAZ_IOD1_E001                 8.70     Eukaryota_Fungi_Ascomycota   \n",
       "TOPAZ_IOD1_E003                 4.17  Eukaryota_Fungi_Microsporidia   \n",
       "TOPAZ_IOD1_E004                  NaN                            NaN   \n",
       "TOPAZ_IOD1_E005                 0.00                      Eukaryota   \n",
       "TOPAZ_IOD1_E012                  NaN                            NaN   \n",
       "\n",
       "                 ocean_region  depth  size_fraction  \\\n",
       "TOPAZ_IOD1_E001            IO    DCM          0.8-5   \n",
       "TOPAZ_IOD1_E003            IO    DCM          0.8-5   \n",
       "TOPAZ_IOD1_E004            IO    DCM          0.8-5   \n",
       "TOPAZ_IOD1_E005            IO    DCM          0.8-5   \n",
       "TOPAZ_IOD1_E012            IO    DCM          0.8-5   \n",
       "\n",
       "                                             smags_taxonomy_humann  \n",
       "TOPAZ_IOD1_E001  g__Geminigera cryophila.s__Geminigera|46947|c_...  \n",
       "TOPAZ_IOD1_E003  g__Chrysochromulina rotalis.s__Chrysochromulin...  \n",
       "TOPAZ_IOD1_E004  g__Chrysochromulina rotalis.s__Chrysochromulin...  \n",
       "TOPAZ_IOD1_E005  g__Micromonas sp..s__Micromonas|2812611|c__Mam...  \n",
       "TOPAZ_IOD1_E012  g__Bathycoccus prasinos.s__Bathycoccus|41875|c...  \n",
       "\n",
       "[5 rows x 31 columns]"
      ]
     },
     "execution_count": 237,
     "metadata": {},
     "output_type": "execute_result"
    }
   ],
   "source": [
    "filtered_mags_definit_df = topaz_mags_meta_df.loc[filtered_mags_list.index]\n",
    "filtered_mags_definit_df[\"smags_taxonomy_humann\"] = filtered_mags_list\n",
    "filtered_mags_definit_df.head()"
   ]
  },
  {
   "cell_type": "markdown",
   "metadata": {},
   "source": [
    "Now let's loop over the entire set of SMAGs filetered above and pull out the corresponding sequences, reannotate the taxonomic label and add placeholders for functional annotation against UniRef90.  \n",
    "**Uncomment to re-run code developed to pull out sequences**"
   ]
  },
  {
   "cell_type": "code",
   "execution_count": 244,
   "metadata": {},
   "outputs": [],
   "source": [
    "# set_dir = '../marine_databases/TARA_Oceans/TOPAZ_MAGs'\n",
    "# new_fasta_fid = os.path.join(set_dir,'Euk_TOPAZ_MAGs_v1_concat_filtered.faa')\n",
    "# sample_ids_cont = []\n",
    "# with ZipFile(os.path.join(set_dir,'Eukaryotic_TOPAZ_MAGs.zip')) as zf:\n",
    "#     n=0\n",
    "#     for sample_id in filtered_mags_definit_df.index:\n",
    "#         try:\n",
    "#             fid = '{0}/{0}.faa.gz'.format(sample_id)#'TOPAZ_SPS3_E081/TOPAZ_SPS3_E081.faa.gz'\n",
    "#             tax_lbl_humann = filtered_mags_definit_df.loc[sample_id]['smags_taxonomy_humann']\n",
    "#             with gzip.GzipFile(fileobj=zf.open(fid), mode='rb') as gf:\n",
    "#                 for record in SeqIO.parse(StringIO(gf.read().decode(\"utf-8\")), \"fasta\"):\n",
    "#                     #Modify seq header\n",
    "#                     seql = len(record)\n",
    "#                     new_seq_header = \"Seq{}-UniRef90|{}|{}\".format(n,seql,tax_lbl_humann)\n",
    "#                     record.id = ''\n",
    "#                     record.name = ''\n",
    "#                     record.description = ''\n",
    "#                     record.id = new_seq_header\n",
    "\n",
    "#                     #Dump record into file\n",
    "#                     with open(new_fasta_fid, \"a\") as output_handle:\n",
    "#                         bioseqio.write(record, output_handle, \"fasta\")          \n",
    "\n",
    "#                     n+=1\n",
    "#                 #Close current io stream\n",
    "#                 fasta_io.close()\n",
    "#                 sample_ids_cont.append(sample_id)\n",
    "#         except:\n",
    "#             pass"
   ]
  },
  {
   "cell_type": "markdown",
   "metadata": {},
   "source": [
    "After looping over the TOPAZ collection of eukaryotic MAGs we end up with the following summary of the different organisms used as reference to extend our custom DB. It shall be noticed that different SMAgs with same taxonomic description might show some significant variation is gene content given that those genomes derived from different oceaninc pronvinces. So, it is worth considering all of them for mining for gene content. Significant gene sequence redundancy is taken care of downstream when mmseqs is applied on the final list of Diamond annotated sequences against UniRef90."
   ]
  },
  {
   "cell_type": "code",
   "execution_count": 256,
   "metadata": {},
   "outputs": [
    {
     "name": "stdout",
     "output_type": "stream",
     "text": [
      "No. of candidate MAGs from which proteins were pulled out: 495\n",
      "\n"
     ]
    },
    {
     "data": {
      "text/plain": [
       "g__Eurytemora affinis.s__Eurytemora|88015|c__Hexanauplia.o__Calanoida.f__Temoridae                                         150\n",
       "g__Chrysochromulina rotalis.s__Chrysochromulina|412157|c__unclassified.o__Prymnesiales.f__Chrysochromulinaceae              31\n",
       "g__Tigriopus californicus.s__Tigriopus|6832|c__Hexanauplia.o__Harpacticoida.f__Harpacticidae                                29\n",
       "g__Bathycoccus prasinos.s__Bathycoccus|41875|c__Mamiellophyceae.o__Mamiellales.f__Bathycoccaceae                            22\n",
       "g__Geminigera cryophila.s__Geminigera|46947|c__Cryptophyceae.o__Pyrenomonadales.f__Geminigeraceae                           21\n",
       "                                                                                                                          ... \n",
       "g__Candida parapsilosis.s__Candida|5480|c__Saccharomycetes.o__Saccharomycetales.f__Debaryomycetaceae                         1\n",
       "g__Stephanopyxis turris.s__Stephanopyxis|515487|c__Coscinodiscophyceae.o__Melosirales.f__Stephanopyxidaceae                  1\n",
       "g__Meyerozyma guilliermondii.s__Meyerozyma|4929|c__Saccharomycetes.o__Saccharomycetales.f__Debaryomycetaceae                 1\n",
       "g__Leucosporidium creatinivorum.s__Leucosporidium|106004|c__Microbotryomycetes.o__Leucosporidiales.f__Leucosporidiaceae      1\n",
       "g__Chaetoceros affinis.s__Chaetoceros|426623|c__Coscinodiscophyceae.o__Chaetocerotales.f__Chaetocerotaceae                   1\n",
       "Name: smags_taxonomy_humann, Length: 67, dtype: int64"
      ]
     },
     "execution_count": 256,
     "metadata": {},
     "output_type": "execute_result"
    }
   ],
   "source": [
    "filtered_mags_definit_df2 = filtered_mags_definit_df.loc[sample_ids_cont]\n",
    "no_mags_filtered = filtered_mags_definit_df2.shape[0]\n",
    "print(\"No. of candidate MAGs from which proteins were pulled out: {}\\n\".format(no_mags_filtered))\n",
    "filtered_mags_definit_df2['smags_taxonomy_humann'].value_counts()"
   ]
  },
  {
   "cell_type": "code",
   "execution_count": 257,
   "metadata": {},
   "outputs": [
    {
     "name": "stdout",
     "output_type": "stream",
     "text": [
      "Total No. protein seqs pulled out from a list of 495 MAGs\n",
      "4630020\n"
     ]
    }
   ],
   "source": [
    "print(\"Total No. protein seqs pulled out from a list of {} MAGs\".format(no_mags_filtered))\n",
    "!grep -c '>' ../marine_databases/TARA_Oceans/TOPAZ_MAGs/Euk_TOPAZ_MAGs_v1_concat_filtered.faa"
   ]
  },
  {
   "cell_type": "markdown",
   "metadata": {},
   "source": [
    "### Processing output files from the functional annotation of the TOPAZ MAGs DB against the UniRef90 catalog via Diamond  \n",
    "Diamond was run with the following settings --evalue 1e-3 --query-cover 80 --id 50"
   ]
  },
  {
   "cell_type": "code",
   "execution_count": 258,
   "metadata": {},
   "outputs": [],
   "source": [
    "#Numeric columns in output files\n",
    "new_col_names = ['Percentage_of_identical_matches', 'Alignment_length', 'Number_of_mismatches', 'Number_of_gap_openings',\n",
    "                 'Start_of_alignment_in_query', 'End_of_alignment_in_query','Start_of_alignment_in_subject', \n",
    "                 'End_of_alignment_in_subject','Expected_value', 'Bit_score']"
   ]
  },
  {
   "cell_type": "code",
   "execution_count": 259,
   "metadata": {},
   "outputs": [],
   "source": [
    "annotat_files = glob.glob('data/MAGs_filtered_chunk_annots_*.tsv')\n",
    "sorted_annotat_files = sorted(annotat_files, key = lambda s: int(os.path.basename(s).split(\"_\")[-1].replace(\".tsv\",\"\")))"
   ]
  },
  {
   "cell_type": "code",
   "execution_count": 261,
   "metadata": {},
   "outputs": [],
   "source": [
    "#Loop over all the annotation results files\n",
    "annot_res_df_cont = []\n",
    "for af in sorted_annotat_files:\n",
    "    with open(af,\"r\") as annot_file:\n",
    "        lines = annot_file.readlines()\n",
    "\n",
    "    col_names = [s.replace(\" \",\"_\") for s in lines[2].split(\":\")[1].strip().split(', ')]\n",
    "\n",
    "    #Fetch entries\n",
    "    annot_res = []\n",
    "    for l in lines[3:]:\n",
    "        annot_res.append(l.strip().split('\\t'))\n",
    "\n",
    "    #Cast raw data into a DF\n",
    "    annot_res_df = pd.DataFrame(data=annot_res,columns=col_names)\n",
    "\n",
    "    #Convert fields to numeric and cast data as new DF\n",
    "    new_annot_res_df = annot_res_df[new_col_names].apply(pd.to_numeric)\n",
    "    new_annot_res_df[\"Subject_ID\"] = annot_res_df[\"Subject_ID\"]\n",
    "    new_annot_res_df.index = annot_res_df[\"Query_ID\"]\n",
    "    #Stack up DFs\n",
    "    annot_res_df_cont.append(new_annot_res_df)    "
   ]
  },
  {
   "cell_type": "code",
   "execution_count": 268,
   "metadata": {},
   "outputs": [
    {
     "name": "stdout",
     "output_type": "stream",
     "text": [
      "Total number of sequences: 1672135\n"
     ]
    }
   ],
   "source": [
    "#Create full df of annotations\n",
    "annot_all_results_df = pd.concat(annot_res_df_cont)\n",
    "print(\"Total number of sequences: {}\".format(annot_all_results_df.shape[0]))"
   ]
  },
  {
   "cell_type": "code",
   "execution_count": 364,
   "metadata": {},
   "outputs": [],
   "source": [
    "# #Set input/output files\n",
    "# seq_hits_files = glob.glob('data/MAGs_filtered_chunk_annot_seqs_*.faa')\n",
    "# sorted_seq_hits_files = sorted(seq_hits_files, key = lambda s: int(os.path.basename(s).split(\"_\")[-1].replace(\".faa\",\"\")))\n",
    "# filtered_TOPAZ_MAGs_uniref90_annotat_fn = os.path.join(data_dir,\"Euk_TOPAZ_MAGs_UniRef90_Annotated.faa\")\n",
    "\n",
    "# #Concatenate all the annotated fasta files -> dump into one single file\n",
    "# concat_fasta = os.path.join(data_dir,\"concat_MAGs_filtered_annot_seq_chunks.faa\")\n",
    "# concat_fasta_str = \" \".join(sorted_seq_hits_files)\n",
    "# cmd = \"cat {} > {}\".format(concat_fasta_str, concat_fasta)\n",
    "# runShell(cmd,stdout=False)"
   ]
  },
  {
   "cell_type": "markdown",
   "metadata": {},
   "source": [
    "Here we have to loop over the fasta file: concat_MAGs_filtered_annot_seq_chunks.faa and fetch the corresponding headers, which will be used for renaming the index of the DF annot_all_results_df, which was wrongly formatted internally by Diamond."
   ]
  },
  {
   "cell_type": "code",
   "execution_count": 372,
   "metadata": {},
   "outputs": [],
   "source": [
    "# correct_headers_cont = []\n",
    "# with open(concat_fasta,\"r\") as handle:\n",
    "#     for (n,record) in enumerate(bioseqio.parse(handle, \"fasta\")):\n",
    "#         correct_headers_cont.append(record.description)"
   ]
  },
  {
   "cell_type": "code",
   "execution_count": 390,
   "metadata": {},
   "outputs": [],
   "source": [
    "# #Update indexes of DF with correct headers\n",
    "# annot_all_results_df.index = correct_headers_cont"
   ]
  },
  {
   "cell_type": "code",
   "execution_count": 388,
   "metadata": {},
   "outputs": [],
   "source": [
    "# #Grab all the UniRef90 labels\n",
    "# uniref90_lbls = annot_all_results_df['Subject_ID'].values\n",
    "# tax_lbl_cont = []\n",
    "# with open(concat_fasta,\"r\") as handle:\n",
    "#     for (n,record) in enumerate(bioseqio.parse(handle, \"fasta\")):\n",
    "#         ur90lbl = uniref90_lbls[n]\n",
    "# #         if (\"X\" not in record.seq) and ('.f__' in record.id):\n",
    "#         if ('.f__' in record.description):    \n",
    "#             new_header = ur90lbl + record.description.split(\"UniRef90\")[-1]\n",
    "#             record.id = ''\n",
    "#             record.name = ''\n",
    "#             record.description = ''\n",
    "#             record.id = new_header\n",
    "#             record.name = new_header\n",
    "#             record.id = new_header\n",
    "#             #Dump record into file\n",
    "#             with open(filtered_TOPAZ_MAGs_uniref90_annotat_fn, \"a\") as output_handle:\n",
    "#                 bioseqio.write(record, output_handle, \"fasta\")\n",
    "        \n",
    "#         tax_lbl = \"g{}\".format(record.id.split(\"|g\")[-1])\n",
    "#         if (tax_lbl not in tax_lbl_cont) and ('.f__' in record.id):\n",
    "#             tax_lbl_cont.append(tax_lbl)\n",
    "                \n",
    "# #Remove original fasta\n",
    "# runShell(\"rm {}\".format(concat_fasta),stdout=False)"
   ]
  },
  {
   "cell_type": "code",
   "execution_count": 394,
   "metadata": {},
   "outputs": [
    {
     "name": "stdout",
     "output_type": "stream",
     "text": [
      "In the end, the total No. UniRef90 annotated sequences extracted from the TOPAZ catalog of MAGs is:\n",
      "1672135\n"
     ]
    }
   ],
   "source": [
    "# print(\"In the end, the total No. UniRef90 annotated sequences extracted from the TOPAZ catalog of MAGs is:\")\n",
    "# !grep -c '>' $filtered_TOPAZ_MAGs_uniref90_annotat_fn"
   ]
  },
  {
   "cell_type": "code",
   "execution_count": 397,
   "metadata": {},
   "outputs": [
    {
     "name": "stdout",
     "output_type": "stream",
     "text": [
      ">UniRef90_L1JQR5|223|g__Geminigera cryophila.s__Geminigera|46947|c__Cryptophyceae.o__Pyrenomonadales.f__Geminigeraceae\n",
      "MNQFNQMKVPKMPRGTIFTTAGGLALTVGGYVLVNHCMYNVEGGHRAVVYSRLSGMSQVV\n",
      "KGEGTHFKLPWLQRPYIYNVRSTPRNIKSKSGSQDLQMVDINVRIIYRPNIEKLPEMYRS\n",
      "LGLDYDERVLPSIANEVLKSVVAQYNAIDLLVKREQVSQQVRSRLEQRARDFYMVIDDVS\n",
      "LTDIAFSPVFTESVEAKQVAQQEAERAKWVVDKALEEKKSIVI\n",
      ">UniRef90_A0A6T7M7A7|377|g__Geminigera cryophila.s__Geminigera|46947|c__Cryptophyceae.o__Pyrenomonadales.f__Geminigeraceae\n",
      "MAVVQSSGMAAGSPAVGGSHALVVSVGEHAPSASPGSAAPAHQAPCVPLWRARDMVLTEL\n",
      "RALQQLAGQGRLEGKELLRLEVRVGGFGVDESMLWLRAQTMLPRVFFLNPDSSLLSAGCG\n",
      "QAHLVSGDGDLPGELVKRGTPPEIRYFGGSRFDLGADVGQEWQDFQGHFFVLPQLEIVYM\n",
      "PAPGQQPEHRDEWEQRSTGENKRSSLQNRAFTFAVNARAGAGEGWAGALQRAVQAVEGMR\n"
     ]
    }
   ],
   "source": [
    "# #Let's peek at the fasta file with the new set of protein sequences pulled out from TOPAZ, which were annotated against UniRef90\n",
    "# !head $filtered_TOPAZ_MAGs_uniref90_annotat_fn"
   ]
  },
  {
   "cell_type": "code",
   "execution_count": 395,
   "metadata": {},
   "outputs": [
    {
     "name": "stdout",
     "output_type": "stream",
     "text": [
      "The above subset of annotated sequences comes from a total number of 67 taxa\n"
     ]
    }
   ],
   "source": [
    "# print(\"The above subset of annotated sequences comes from a total number of {} taxa\".format(len(tax_lbl_cont)))"
   ]
  },
  {
   "cell_type": "markdown",
   "metadata": {},
   "source": [
    "### Merging together prok_euk_plankt_db_v1.0 (initial version of our custom DB) with the set of sequences pulled out from TOPAZ MAGs (filtered_TOPAZ_MAGs_uniref90_annotat_fn)"
   ]
  },
  {
   "cell_type": "code",
   "execution_count": 401,
   "metadata": {},
   "outputs": [],
   "source": [
    "# custom_db_folder = '/home/VLIZ2000/jayson.gutierrez/meta_omics_data/marine_databases/CustomProkEukDB/'\n",
    "# #Initially created DB containing a total of: 2131295 annotated seqs\n",
    "# inital_db = os.path.join(custom_db_folder,\"prok_euk_plankt_db_v1.0.faa\")\n",
    "# #Dump files into this new fasta file\n",
    "# merged_fasta_fid = os.path.join(custom_db_folder,\"prok_euk_plankt_db_v2.0.faa\")\n",
    "# #Merge\n",
    "# cmd = \"cat {} {} > {}\".format(inital_db,filtered_TOPAZ_MAGs_uniref90_annotat_fn,merged_fasta_fid)\n",
    "# runShell(cmd,stdout=False)"
   ]
  },
  {
   "cell_type": "code",
   "execution_count": 402,
   "metadata": {},
   "outputs": [
    {
     "name": "stdout",
     "output_type": "stream",
     "text": [
      "Checking total number of seqs in our upgraded custom DB:\n",
      "3803430\n"
     ]
    }
   ],
   "source": [
    "print(\"Checking total number of seqs in our upgraded custom DB:\")\n",
    "!grep -c '>' $merged_fasta_fid"
   ]
  },
  {
   "cell_type": "code",
   "execution_count": 403,
   "metadata": {},
   "outputs": [
    {
     "name": "stdout",
     "output_type": "stream",
     "text": [
      "Pushing our upgraded DB to the HPC\n",
      "prok_euk_plankt_db_v2.0.faa                   100% 1725MB  42.5MB/s   00:40    \n"
     ]
    }
   ],
   "source": [
    "# print(\"Pushing our upgraded DB to the HPC\")\n",
    "# !scp $merged_fasta_fid vsc43582@login.hpc.ugent.be:/kyukon/data/gent/vo/001/gvo00125/vsc43582/Bioinformatics/HUMAnN3/data/databases/custom_db"
   ]
  }
 ],
 "metadata": {
  "kernelspec": {
   "display_name": "Python 3 (ipykernel)",
   "language": "python",
   "name": "python3"
  },
  "language_info": {
   "codemirror_mode": {
    "name": "ipython",
    "version": 3
   },
   "file_extension": ".py",
   "mimetype": "text/x-python",
   "name": "python",
   "nbconvert_exporter": "python",
   "pygments_lexer": "ipython3",
   "version": "3.9.6"
  }
 },
 "nbformat": 4,
 "nbformat_minor": 4
}
